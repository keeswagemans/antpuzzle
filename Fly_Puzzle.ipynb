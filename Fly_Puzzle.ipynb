{
  "nbformat": 4,
  "nbformat_minor": 0,
  "metadata": {
    "colab": {
      "provenance": []
    },
    "kernelspec": {
      "name": "python3",
      "display_name": "Python 3"
    },
    "language_info": {
      "name": "python"
    }
  },
  "cells": [
    {
      "cell_type": "markdown",
      "source": [
        "# **Fly Puzzle**\n",
        " ***Kees Wagemans***\n",
        "_____________\n",
        "In this document the solutions to the Fly Puzzle. The main premise for all the three questions are the following: A fly leaves its base in order to forage for food. It moves with the speed of 10cm per second, but it doesn't know where to go, therefore every second it moves randomly 10cm directly north, south, east or west with equal probability."
      ],
      "metadata": {
        "id": "ZGMgwaZduy-g"
      }
    },
    {
      "cell_type": "markdown",
      "source": [
        "# Question 1\n",
        "\n",
        "The first question is stated as follows: If the food is located on east-west lines 20cm to the north and 20cm to the south, as well as on north-south lines 20cm to the east and 20cm to the west from the base, how long will it take the fly to reach it on average?\n",
        "\n",
        "There are two ways possible for solving this question. Firstly, since this is a discrete space, a Markov Chain approach could be used. I opted for a solution where I simulated the movement of the fly via Python code.  \n",
        "\n",
        "**The solution to this question is 4.5 seconds.**  "
      ],
      "metadata": {
        "id": "Wi2Q6rB6v-Ta"
      }
    },
    {
      "cell_type": "code",
      "execution_count": null,
      "metadata": {
        "colab": {
          "base_uri": "https://localhost:8080/"
        },
        "id": "pVXwtYLUuucE",
        "outputId": "07e5e3dc-2792-41fe-a77a-8938c53225a7"
      },
      "outputs": [
        {
          "output_type": "execute_result",
          "data": {
            "text/plain": [
              "4.5"
            ]
          },
          "metadata": {},
          "execution_count": 7
        }
      ],
      "source": [
        "import random\n",
        "\n",
        "def ant_simulation():\n",
        "  position_x = 0\n",
        "  position_y = 0\n",
        "  ticks = 0\n",
        "  while abs(position_x) < 20 and abs(position_y) < 20:\n",
        "    direction = random.choice(['north', 'south', 'east', 'west'])\n",
        "    if direction == 'north':\n",
        "      ticks += 1\n",
        "      position_y += 10\n",
        "    if direction == 'south':\n",
        "      ticks += 1\n",
        "      position_y -= 10\n",
        "    if direction == 'east':\n",
        "      ticks += 1\n",
        "      position_x += 10\n",
        "    if direction == 'west':\n",
        "      ticks += 1\n",
        "      position_x -= 10\n",
        "  return ticks\n",
        "\n",
        "def iterating_ant():\n",
        "  total = 0\n",
        "  iterations = 1000000\n",
        "  for i in range(iterations):\n",
        "    total += ant_simulation()\n",
        "  average = total / iterations\n",
        "  return round(average, 1)\n",
        "\n",
        "iterating_ant()"
      ]
    },
    {
      "cell_type": "markdown",
      "source": [
        "# Question 2\n",
        "\n",
        "What is the average time the fly will reach food if it is located only on a diagonal line passing through (10cm, 0cm) and (0cm, 10cm) points?\n",
        "\n",
        "My first approach to this question yielded 1.3 seconds. In the approach in the next coding block I tried to come up with a mathematical solution to the problem. This approach yielded a even much lower time for the fly to reach the food.\n",
        "\n",
        "Although I came up with the approaches above, I think this is a simulation of a Brownian motion and therefore the time for to fly reaching the food is infinity.\n",
        "\n",
        "**The solution to question 2 is infinity.**"
      ],
      "metadata": {
        "id": "lwxTSNcb1BDx"
      }
    },
    {
      "cell_type": "code",
      "source": [
        "import numpy as np\n",
        "\n",
        "def ant_simulation_diagonal():\n",
        "    total = 0\n",
        "    iterations = 100\n",
        "    n = iterations\n",
        "    odd = np.arange(1, 70, 2)\n",
        "    for i in range(len(odd)):\n",
        "      total += ((odd[i]) * (2 ** odd[i]) * (0.25 ** (odd[i]-1)) * 0.5)\n",
        "    return total / iterations\n",
        "\n",
        "ant_simulation_diagonal()"
      ],
      "metadata": {
        "colab": {
          "base_uri": "https://localhost:8080/"
        },
        "id": "kQoRxiEy4uRJ",
        "outputId": "b453a876-20cb-4756-d785-39a47c636c82"
      },
      "execution_count": 1,
      "outputs": [
        {
          "output_type": "stream",
          "name": "stderr",
          "text": [
            "<ipython-input-1-2a2471728cd7>:9: RuntimeWarning: overflow encountered in long_scalars\n",
            "  total += ((odd[i]) * (2 ** odd[i]) * (0.25 ** (odd[i]-1)) * 0.5)\n"
          ]
        },
        {
          "output_type": "execute_result",
          "data": {
            "text/plain": [
              "0.02222222222222222"
            ]
          },
          "metadata": {},
          "execution_count": 1
        }
      ]
    },
    {
      "cell_type": "markdown",
      "source": [
        "# Question 3\n",
        "\n",
        "For this question I used a similar approach as the one used for question 1. It is possible to enter the x-coordinate and the y-coordinate for the ellipse in the code down below.\n",
        "\n",
        "**The solution to this question is 14 seconds.**  "
      ],
      "metadata": {
        "id": "cGWL86nx4uja"
      }
    },
    {
      "cell_type": "code",
      "source": [
        "import random\n",
        "\n",
        "def ant_simulation_ellipse(x_coordinate, y_coordinate):\n",
        "    position_x = 0\n",
        "    position_y = 0\n",
        "    ticks = 0\n",
        "    while True:\n",
        "        direction = random.choice(['north', 'south', 'east', 'west'])\n",
        "        if direction == 'north':\n",
        "            ticks += 1\n",
        "            position_y += 10\n",
        "        if direction == 'south':\n",
        "            ticks += 1\n",
        "            position_y -= 10\n",
        "        if direction == 'east':\n",
        "            ticks += 1\n",
        "            position_x += 10\n",
        "        if direction == 'west':\n",
        "            ticks += 1\n",
        "            position_x -= 10\n",
        "        if (((position_x - 2.5) / 30) **2 + ((position_y - 2.5) / 40) **2) > 1:\n",
        "            break\n",
        "    return ticks\n",
        "\n",
        "def iterating_ant_simulation_ellipse(y_coordinate, x_coordinate):\n",
        "    total = 0\n",
        "    iterations = 1000000\n",
        "    for _ in range(iterations):\n",
        "        ticks = ant_simulation_ellipse(y_coordinate, x_coordinate)\n",
        "        total += ticks\n",
        "    average = total / iterations\n",
        "    return round(average)\n",
        "\n",
        "iterating_ant_simulation_ellipse(5, 6)\n"
      ],
      "metadata": {
        "colab": {
          "base_uri": "https://localhost:8080/"
        },
        "id": "neBUADwW96wU",
        "outputId": "42053ffa-1cc7-4178-f473-2a6a3443b176"
      },
      "execution_count": null,
      "outputs": [
        {
          "output_type": "execute_result",
          "data": {
            "text/plain": [
              "14"
            ]
          },
          "metadata": {},
          "execution_count": 1
        }
      ]
    }
  ]
}
